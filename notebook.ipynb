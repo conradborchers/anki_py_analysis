{
 "cells": [
  {
   "cell_type": "markdown",
   "metadata": {},
   "source": [
    "### Read in data"
   ]
  },
  {
   "cell_type": "code",
   "execution_count": 8,
   "metadata": {},
   "outputs": [
    {
     "data": {
      "text/html": [
       "<div>\n",
       "<style scoped>\n",
       "    .dataframe tbody tr th:only-of-type {\n",
       "        vertical-align: middle;\n",
       "    }\n",
       "\n",
       "    .dataframe tbody tr th {\n",
       "        vertical-align: top;\n",
       "    }\n",
       "\n",
       "    .dataframe thead th {\n",
       "        text-align: right;\n",
       "    }\n",
       "</style>\n",
       "<table border=\"1\" class=\"dataframe\">\n",
       "  <thead>\n",
       "    <tr style=\"text-align: right;\">\n",
       "      <th></th>\n",
       "      <th>id</th>\n",
       "      <th>cid</th>\n",
       "      <th>usn</th>\n",
       "      <th>ease</th>\n",
       "      <th>ivl</th>\n",
       "      <th>lastIvl</th>\n",
       "      <th>factor</th>\n",
       "      <th>time</th>\n",
       "      <th>type</th>\n",
       "    </tr>\n",
       "  </thead>\n",
       "  <tbody>\n",
       "    <tr>\n",
       "      <th>0</th>\n",
       "      <td>1540363189608</td>\n",
       "      <td>1540362429294</td>\n",
       "      <td>0</td>\n",
       "      <td>3</td>\n",
       "      <td>4</td>\n",
       "      <td>-60</td>\n",
       "      <td>2500</td>\n",
       "      <td>33865</td>\n",
       "      <td>0</td>\n",
       "    </tr>\n",
       "    <tr>\n",
       "      <th>1</th>\n",
       "      <td>1540363195750</td>\n",
       "      <td>1540362566043</td>\n",
       "      <td>0</td>\n",
       "      <td>3</td>\n",
       "      <td>4</td>\n",
       "      <td>-60</td>\n",
       "      <td>2500</td>\n",
       "      <td>6139</td>\n",
       "      <td>0</td>\n",
       "    </tr>\n",
       "    <tr>\n",
       "      <th>2</th>\n",
       "      <td>1540363220005</td>\n",
       "      <td>1540362642123</td>\n",
       "      <td>0</td>\n",
       "      <td>3</td>\n",
       "      <td>4</td>\n",
       "      <td>-60</td>\n",
       "      <td>2500</td>\n",
       "      <td>24252</td>\n",
       "      <td>0</td>\n",
       "    </tr>\n",
       "    <tr>\n",
       "      <th>3</th>\n",
       "      <td>1540363254083</td>\n",
       "      <td>1540362736118</td>\n",
       "      <td>0</td>\n",
       "      <td>2</td>\n",
       "      <td>-600</td>\n",
       "      <td>-60</td>\n",
       "      <td>0</td>\n",
       "      <td>34042</td>\n",
       "      <td>0</td>\n",
       "    </tr>\n",
       "    <tr>\n",
       "      <th>4</th>\n",
       "      <td>1540363312498</td>\n",
       "      <td>1540362917244</td>\n",
       "      <td>0</td>\n",
       "      <td>2</td>\n",
       "      <td>-600</td>\n",
       "      <td>-60</td>\n",
       "      <td>0</td>\n",
       "      <td>58411</td>\n",
       "      <td>0</td>\n",
       "    </tr>\n",
       "  </tbody>\n",
       "</table>\n",
       "</div>"
      ],
      "text/plain": [
       "              id            cid  usn  ease  ivl  lastIvl  factor   time  type\n",
       "0  1540363189608  1540362429294    0     3    4      -60    2500  33865     0\n",
       "1  1540363195750  1540362566043    0     3    4      -60    2500   6139     0\n",
       "2  1540363220005  1540362642123    0     3    4      -60    2500  24252     0\n",
       "3  1540363254083  1540362736118    0     2 -600      -60       0  34042     0\n",
       "4  1540363312498  1540362917244    0     2 -600      -60       0  58411     0"
      ]
     },
     "execution_count": 8,
     "metadata": {},
     "output_type": "execute_result"
    }
   ],
   "source": [
    "import pandas as pd\n",
    "import numpy as np\n",
    "import matplotlib.pyplot as plt\n",
    "\n",
    "df = pd.read_csv(\"revlog.csv\")\n",
    "\n",
    "df.head(5) # first look into the data"
   ]
  },
  {
   "cell_type": "markdown",
   "metadata": {},
   "source": [
    "### Clean data"
   ]
  },
  {
   "cell_type": "code",
   "execution_count": 9,
   "metadata": {},
   "outputs": [
    {
     "data": {
      "text/plain": [
       "0    33.865\n",
       "1     6.139\n",
       "2    24.252\n",
       "Name: time, dtype: float64"
      ]
     },
     "execution_count": 9,
     "metadata": {},
     "output_type": "execute_result"
    }
   ],
   "source": [
    "## Change variable time from ms to s\n",
    "\n",
    "df.time = df.time / 1000\n",
    "df.time.head(3)"
   ]
  },
  {
   "cell_type": "markdown",
   "metadata": {},
   "source": [
    "### Explore data"
   ]
  },
  {
   "cell_type": "code",
   "execution_count": 10,
   "metadata": {},
   "outputs": [
    {
     "name": "stdout",
     "output_type": "stream",
     "text": [
      "100826\trevisions by August 24th, 2020.\n",
      "12182\tcards total.\n"
     ]
    }
   ],
   "source": [
    "print(str(df.shape[0]) + \"\\trevisions by August 24th, 2020.\")\n",
    "\n",
    "print(str(df.cid.unique().shape[0]) + \"\\tcards total.\")"
   ]
  },
  {
   "cell_type": "code",
   "execution_count": 11,
   "metadata": {},
   "outputs": [
    {
     "data": {
      "text/plain": [
       "ease\n",
       "1    22.853363\n",
       "2    19.004718\n",
       "3    15.311757\n",
       "4     8.275466\n",
       "Name: time, dtype: float64"
      ]
     },
     "execution_count": 11,
     "metadata": {},
     "output_type": "execute_result"
    }
   ],
   "source": [
    "df.groupby(\"ease\").time.mean() # average response time by self-rated difficulty"
   ]
  },
  {
   "cell_type": "code",
   "execution_count": 12,
   "metadata": {},
   "outputs": [
    {
     "data": {
      "text/plain": [
       "cid_revs\n",
       "1     8.012245\n",
       "2     7.434382\n",
       "3     9.911939\n",
       "4    14.954811\n",
       "5    16.838690\n",
       "Name: time, dtype: float64"
      ]
     },
     "execution_count": 12,
     "metadata": {},
     "output_type": "execute_result"
    }
   ],
   "source": [
    "# Add n_revisions per card to df\n",
    "\n",
    "d = dict(df.cid.value_counts())\n",
    "df[\"cid_revs\"] = df.cid.map(d)\n",
    "\n",
    "df.groupby(\"cid_revs\").time.mean().sort_index().head(5) # response time ~ number of card revisions in total"
   ]
  },
  {
   "cell_type": "markdown",
   "metadata": {},
   "source": [
    "### Plotting"
   ]
  },
  {
   "cell_type": "code",
   "execution_count": 21,
   "metadata": {},
   "outputs": [
    {
     "data": {
      "image/png": "[encoded data removed]",
      "text/plain": [
       "<Figure size 432x288 with 1 Axes>"
      ]
     },
     "metadata": {
      "needs_background": "light"
     },
     "output_type": "display_data"
    }
   ],
   "source": [
    "# Number of cards by number of revisions of each card\n",
    "\n",
    "values = df.cid_revs.value_counts().sort_index()\n",
    "\n",
    "position_X = list(range(1, len(values)*2, 2))\n",
    "\n",
    "plt.bar(position_X, values, label=\"Number of cards\", color=\"b\")\n",
    "plt.legend(loc=\"center right\")\n",
    "plt.title(\"Number of cards by revision count in all decks on August 24th, 2020\")\n",
    "plt.ylabel(\"Number of total cards\")\n",
    "plt.show()"
   ]
  },
  {
   "cell_type": "code",
   "execution_count": 45,
   "metadata": {},
   "outputs": [
    {
     "data": {
      "image/png": "[encoded data removed]",
      "text/plain": [
       "<Figure size 432x288 with 1 Axes>"
      ]
     },
     "metadata": {
      "needs_background": "light"
     },
     "output_type": "display_data"
    }
   ],
   "source": [
    "# Average response time ~ number of revisions of each card\n",
    "\n",
    "values = df.groupby(\"cid_revs\").time.mean()\n",
    "\n",
    "plt.scatter(values.index, values.values, marker=\"o\", color=\"b\", s=15)\n",
    "    \n",
    "plt.xlabel(\"Cards grouped by total number of reviews of card\")\n",
    "plt.ylabel(\"Average response time in s\")\n",
    "plt.show()"
   ]
  }
 ],
 "metadata": {
  "kernelspec": {
   "display_name": "Python 3",
   "language": "python",
   "name": "python3"
  },
  "language_info": {
   "codemirror_mode": {
    "name": "ipython",
    "version": 3
   },
   "file_extension": ".py",
   "mimetype": "text/x-python",
   "name": "python",
   "nbconvert_exporter": "python",
   "pygments_lexer": "ipython3",
   "version": "3.8.2"
  }
 },
 "nbformat": 4,
 "nbformat_minor": 4
}
